{
 "cells": [
  {
   "cell_type": "code",
   "execution_count": 2,
   "id": "3438886f",
   "metadata": {},
   "outputs": [],
   "source": [
    "import pandas as pd\n",
    "import seaborn as sns\n",
    "import matplotlib.pyplot as plt"
   ]
  },
  {
   "cell_type": "code",
   "execution_count": 3,
   "id": "d9b9ce51",
   "metadata": {},
   "outputs": [],
   "source": [
    "df = pd.read_csv(\"../outputs/exp_summary1.csv\")\n",
    "df2 = pd.read_csv(\"../outputs/exp_summary2.csv\")\n",
    "\n",
    "# milliseconds to seconds\n",
    "df[\"runtime_igraph\"] = df[\"runtime_igraph\"] / 1000\n",
    "df[\"runtime_ours\"] = df[\"runtime_ours\"] / 1000\n",
    "df2[\"runtime_ours\"] = df2[\"runtime_ours\"] / 1000"
   ]
  },
  {
   "cell_type": "code",
   "execution_count": 12,
   "id": "2605f1dd",
   "metadata": {},
   "outputs": [
    {
     "data": {
      "image/png": "[encoded data removed]",
      "text/plain": [
       "<Figure size 640x480 with 1 Axes>"
      ]
     },
     "metadata": {},
     "output_type": "display_data"
    }
   ],
   "source": [
    "plt.rcParams.update({\n",
    "    \"text.usetex\": True,\n",
    "    \"font.family\": \"serif\",\n",
    "    \"font.serif\": [\"Times\"],    # or [\"Palatino\"], [\"Computer Modern Roman\"], etc.\n",
    "})\n",
    "\n",
    "ax = sns.boxplot(data=df.melt(id_vars=[\"type\"], value_vars=[\"runtime_igraph\", \"runtime_ours\"],\n",
    "                         var_name=\"algorithm\", value_name=\"runtime\"),\n",
    "            x=\"type\", y=\"runtime\", hue=\"algorithm\",\n",
    "            order=[\"erdos-renyi\", \"barabasi-albert\", \"IMH\", \"perfectOperations\"])\n",
    "\n",
    "ax.legend(title=\"Algorithm\")\n",
    "legend_labels = [\"igraph\", \"ours\"]\n",
    "for t, l in zip(ax.legend_.texts, legend_labels):\n",
    "    t.set_text(l)\n",
    "\n",
    "plt.xlabel(\"Graph Type\")\n",
    "ax.set_xticklabels([\"Erdös-Renyi\", \"Barabasi-Albert\", \"IMH\", \"PO\"])\n",
    "plt.ylabel(\"Runtime (s)\")\n",
    "plt.yscale(\"log\")\n",
    "plt.title(\"Runtime Distribution by Graph Type\")\n",
    "plt.savefig(\"fig.png\", dpi=288)\n",
    "plt.show()"
   ]
  },
  {
   "cell_type": "code",
   "execution_count": 5,
   "id": "098ddd06",
   "metadata": {},
   "outputs": [
    {
     "name": "stdout",
     "output_type": "stream",
     "text": [
      "1050\n",
      "120\n"
     ]
    }
   ],
   "source": [
    "print(len(df))\n",
    "print(len(df2))"
   ]
  },
  {
   "cell_type": "code",
   "execution_count": 5,
   "id": "d5fb49a9",
   "metadata": {},
   "outputs": [],
   "source": [
    "df_merged = pd.concat([df, df2], axis=0)"
   ]
  },
  {
   "cell_type": "code",
   "execution_count": 6,
   "id": "7d2400d8",
   "metadata": {},
   "outputs": [],
   "source": [
    "table = pd.pivot_table(\n",
    "    df_merged,\n",
    "    index=[\"order\", \"density\"],  # multi-level rows\n",
    "    values=[\"runtime_igraph\", \"runtime_ours\"],  # runtime metrics\n",
    "    columns=\"type\",  # graph type as outer columns\n",
    "    aggfunc=\"mean\"   # or \"median\", \"min\", \"max\" depending on what you want\n",
    ")\n",
    "\n",
    "table = table.sort_index(axis=1, level=0)\n",
    "table.columns = table.columns.swaplevel(0, 1)\n",
    "table = table[[\n",
    "    (      'erdos-renyi', 'runtime_igraph'),\n",
    "    (      'erdos-renyi',   'runtime_ours'),\n",
    "    (  'barabasi-albert', 'runtime_igraph'),\n",
    "    (  'barabasi-albert',   'runtime_ours'),\n",
    "    (              'IMH', 'runtime_igraph'),\n",
    "    (              'IMH',   'runtime_ours'),\n",
    "    ('perfectOperations', 'runtime_igraph'),\n",
    "    ('perfectOperations',   'runtime_ours')\n",
    "]]\n",
    "\n",
    "table = table.rename(\n",
    "    columns={\"runtime_igraph\": \"igraph\", \"runtime_ours\": \"ours\"},\n",
    "    level=1\n",
    ")\n",
    "table = table.rename(\n",
    "    columns={\n",
    "        \"erdos-renyi\": \"ER\",\n",
    "        \"barabasi-albert\": \"BA\",\n",
    "        \"IMH\": \"IMH\",\n",
    "        \"perfectOperations\": \"PO\"\n",
    "    },\n",
    "    level=0\n",
    ")\n",
    "\n"
   ]
  },
  {
   "cell_type": "code",
   "execution_count": 7,
   "id": "b8e8e1f7",
   "metadata": {},
   "outputs": [
    {
     "name": "stdout",
     "output_type": "stream",
     "text": [
      "type               ER              BA             IMH                 PO  \\\n",
      "               igraph    ours  igraph    ours  igraph    ours     igraph   \n",
      "order density                                                              \n",
      "10    25000    0.0001  0.0000  0.0000  0.0000  0.0001  0.0000     0.0000   \n",
      "      50000    0.0002  0.0000  0.0006  0.0000  0.0008  0.0000     0.0005   \n",
      "      75000    0.0001  0.0000  0.0000  0.0000  0.0003  0.0000     0.0000   \n",
      "25    25000    0.0000  0.0000  0.0000  0.0000  0.0477  0.0000     0.0246   \n",
      "      50000    0.0000  0.0000  0.0004  0.0000  0.0610  0.0000     0.0249   \n",
      "      75000    0.0000  0.0000  0.0000  0.0000  0.0523  0.0000     0.0232   \n",
      "50    25000    0.0000  0.0000  0.0000  0.0000  0.8706  0.0022     0.2823   \n",
      "      50000    0.0000  0.0000  0.0000  0.0000  0.8775  0.0031     0.2828   \n",
      "      75000    0.0000  0.0000  0.0000  0.0000  0.8753  0.0022     0.2711   \n",
      "75    25000    0.0010  0.0000  0.0010  0.0000  4.0924  0.0119     1.3297   \n",
      "      50000    0.0010  0.0000  0.0010  0.0000  4.2923  0.0137     1.2827   \n",
      "      75000    0.0010  0.0000  0.0010  0.0000  4.0702  0.0115     1.2006   \n",
      "100   25000    0.0010  0.0000  0.0010  0.0000     NaN     NaN     3.8236   \n",
      "      50000    0.0020  0.0000  0.0018  0.0000     NaN     NaN     3.9841   \n",
      "      75000    0.0020  0.0000  0.0020  0.0000     NaN     NaN     3.2862   \n",
      "200   25000    0.0050  0.0000  0.0049  0.0000     NaN     NaN    80.0230   \n",
      "      50000    0.0070  0.0000  0.0060  0.0000     NaN     NaN    77.1540   \n",
      "      75000    0.0074  0.0000  0.0070  0.0000     NaN     NaN    80.5587   \n",
      "400   25000    0.0177  0.0000  0.0165  0.0000     NaN     NaN  2221.6404   \n",
      "      50000    0.0271  0.0001  0.0240  0.0000     NaN     NaN  1750.5521   \n",
      "      75000    0.0334  0.0001  0.0280  0.0000     NaN     NaN  1918.9583   \n",
      "600   25000    0.0394  0.0009  0.0364  0.0000     NaN     NaN        NaN   \n",
      "      50000    0.0584  0.0010  0.0534  0.0010     NaN     NaN        NaN   \n",
      "      75000    0.0601  0.0010  0.0641  0.0010     NaN     NaN        NaN   \n",
      "800   25000    0.0702  0.0012  0.0646  0.0010     NaN     NaN        NaN   \n",
      "      50000    0.1029  0.0021  0.0967  0.0015     NaN     NaN        NaN   \n",
      "      75000    0.1108  0.0017  0.1141  0.0014     NaN     NaN        NaN   \n",
      "1000  25000    0.1118  0.0025  0.1008  0.0020     NaN     NaN        NaN   \n",
      "      50000    0.1967  0.0033  0.1488  0.0025     NaN     NaN        NaN   \n",
      "      75000    0.1750  0.0027  0.1794  0.0020     NaN     NaN        NaN   \n",
      "2000  25000    0.4677  0.0093  0.4331  0.0072     NaN     NaN        NaN   \n",
      "      50000    0.7060  0.0144  0.6251  0.0111     NaN     NaN        NaN   \n",
      "      75000    0.7619  0.0119  0.7563  0.0109     NaN     NaN        NaN   \n",
      "4000  25000    2.0769  0.0413  1.8326  0.0288     NaN     NaN        NaN   \n",
      "      50000    3.0537  0.0585  2.6164  0.0449     NaN     NaN        NaN   \n",
      "      75000    3.0010  0.0460  3.1860  0.0444     NaN     NaN        NaN   \n",
      "\n",
      "type                      \n",
      "                    ours  \n",
      "order density             \n",
      "10    25000       0.0000  \n",
      "      50000       0.0000  \n",
      "      75000       0.0000  \n",
      "25    25000       0.0000  \n",
      "      50000       0.0000  \n",
      "      75000       0.0000  \n",
      "50    25000       0.0000  \n",
      "      50000       0.0000  \n",
      "      75000       0.0000  \n",
      "75    25000       0.0019  \n",
      "      50000       0.0020  \n",
      "      75000       0.0016  \n",
      "100   25000       0.0058  \n",
      "      50000       0.0060  \n",
      "      75000       0.0048  \n",
      "200   25000       0.0771  \n",
      "      50000       0.0812  \n",
      "      75000       0.0719  \n",
      "400   25000       0.9554  \n",
      "      50000       1.1339  \n",
      "      75000       0.9165  \n",
      "600   25000       4.4626  \n",
      "      50000       5.0601  \n",
      "      75000       5.1201  \n",
      "800   25000      13.5552  \n",
      "      50000      16.7824  \n",
      "      75000      14.0135  \n",
      "1000  25000      34.6267  \n",
      "      50000      38.9869  \n",
      "      75000      34.7124  \n",
      "2000  25000     674.2246  \n",
      "      50000    1247.6904  \n",
      "      75000     695.5415  \n",
      "4000  25000          NaN  \n",
      "      50000          NaN  \n",
      "      75000          NaN  \n"
     ]
    }
   ],
   "source": [
    "print(table)\n"
   ]
  },
  {
   "cell_type": "code",
   "execution_count": 8,
   "id": "11536ed9",
   "metadata": {},
   "outputs": [],
   "source": [
    "# For README.md\n",
    "# small adjustments are made on the format\n",
    "\n",
    "# table.to_html(\"table.html\")\n",
    "# print(table.to_html())\n"
   ]
  }
 ],
 "metadata": {
  "kernelspec": {
   "display_name": "base",
   "language": "python",
   "name": "python3"
  },
  "language_info": {
   "codemirror_mode": {
    "name": "ipython",
    "version": 3
   },
   "file_extension": ".py",
   "mimetype": "text/x-python",
   "name": "python",
   "nbconvert_exporter": "python",
   "pygments_lexer": "ipython3",
   "version": "3.11.5"
  }
 },
 "nbformat": 4,
 "nbformat_minor": 5
}
